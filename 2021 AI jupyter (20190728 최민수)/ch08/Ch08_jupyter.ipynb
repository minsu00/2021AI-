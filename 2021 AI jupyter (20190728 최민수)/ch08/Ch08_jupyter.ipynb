{
 "cells": [
  {
   "cell_type": "markdown",
   "id": "0834776e",
   "metadata": {},
   "source": [
    "# Ch08"
   ]
  },
  {
   "cell_type": "markdown",
   "id": "f1c2eb87",
   "metadata": {},
   "source": [
    "## Section 1 | 이항 분류"
   ]
  },
  {
   "cell_type": "markdown",
   "id": "5120a83b",
   "metadata": {},
   "source": [
    "### 1. 이항 분류"
   ]
  },
  {
   "cell_type": "markdown",
   "id": "a956bba1",
   "metadata": {},
   "source": [
    "* 두 가지로 하는 방법\n",
    "    - pass / fail\n",
    "    - spam / ham\n",
    "    - Positive / negative\n",
    "    - 로지스틱 회귀라고도 부름"
   ]
  },
  {
   "cell_type": "markdown",
   "id": "239a5fc6",
   "metadata": {},
   "source": [
    "### 2 . 시그모이드 함수"
   ]
  },
  {
   "cell_type": "markdown",
   "id": "c9ddd9e7",
   "metadata": {},
   "source": [
    "* 이항분류 모델의 출력층에 주로 사용되는 활성화 함수\n",
    "    - 0과 1사이의 값으로 출력\n",
    "    - 출력 값이 특정 임계값 이상이면 (양성) 이하면 (음성)<br><br>\n",
    "![option](8_1.jpg)"
   ]
  },
  {
   "cell_type": "markdown",
   "id": "8d4205df",
   "metadata": {},
   "source": [
    "### 3. 소프트맥스 함수"
   ]
  },
  {
   "cell_type": "markdown",
   "id": "4cc02105",
   "metadata": {},
   "source": [
    "* 분류의 마지막 활성화 함수로 사용\n",
    "    - 모든 yi의 합은 1\n",
    "        * 각각의 yi는 그 분류의 확률<br><br>"
   ]
  },
  {
   "cell_type": "markdown",
   "id": "820fc5ad",
   "metadata": {},
   "source": [
    "* 뉴런의 결과를 e의 지수승으로 하여 모든 합으로 나눈 결과\n",
    "* 대표적 다중 분류로는 MNIST 손글씨<br><br>\n",
    "![option](8_3.jpg)"
   ]
  },
  {
   "cell_type": "markdown",
   "id": "8d13a6a2",
   "metadata": {},
   "source": [
    "### 4. 로그 함수와 엔트로피"
   ]
  },
  {
   "cell_type": "markdown",
   "id": "41c7d023",
   "metadata": {},
   "source": [
    "* 실제 데이터의 결과 값인 y\n",
    "     * 예측 값이 1에 가까워 질수록\n",
    "          - 비용 함수의 값은 작아져야함\n",
    "     * 예측 값이 0에 가까워 질수록\n",
    "          - 비용 함수의 값이 무한대로 증가하여\n",
    "          - 예측이 틀렸다는 것을 보여주어야함\n",
    "![option](8_6.jpg)  "
   ]
  },
  {
   "cell_type": "markdown",
   "id": "a0075d5f",
   "metadata": {},
   "source": [
    "### 크로스 엔트로피"
   ]
  },
  {
   "cell_type": "markdown",
   "id": "983ca36b",
   "metadata": {},
   "source": [
    "* 크로스 엔트로피\n",
    "    - 분류에서의 비용함수\n",
    "    ![option](8_4.jpg)\n",
    "    - p(x) : 실제 분류 값\n",
    "    - q(x) : softmax 결과 값\n",
    "    ![option](8_5.jpg)"
   ]
  },
  {
   "cell_type": "markdown",
   "id": "aea1ec8e",
   "metadata": {},
   "source": [
    "### ! 연습문제 (레드 와인 / 화이트 와인 구분)"
   ]
  },
  {
   "cell_type": "markdown",
   "id": "6dc75802",
   "metadata": {},
   "source": [
    "### 1. 와인 데이터 셋 불러오기"
   ]
  },
  {
   "cell_type": "code",
   "execution_count": null,
   "id": "9fab0096",
   "metadata": {},
   "outputs": [],
   "source": [
    "import pandas as pd\n",
    "red = pd.read_csv('주소', sep = ';')\n",
    "white = pd.read_csv('주소', sep = ';')\n",
    "print(red.head())\n",
    "print(white.head())"
   ]
  },
  {
   "cell_type": "markdown",
   "id": "46e38e7e",
   "metadata": {},
   "source": [
    "### 2. 와인 데이터 셋 합치기"
   ]
  },
  {
   "cell_type": "code",
   "execution_count": null,
   "id": "08298717",
   "metadata": {},
   "outputs": [],
   "source": [
    "# 와인 구분, 열 type 추가\n",
    "red['type'] = 0\n",
    "white['type'] = 1\n",
    "print(red.head(2))\n",
    "print(white.head(2))\n",
    "\n",
    "wine = pd.concat([red, white])\n",
    "print(wine.describe())"
   ]
  },
  {
   "cell_type": "markdown",
   "id": "9d07e83d",
   "metadata": {},
   "source": [
    "### 3. 레드 와인과 화이트 와인 type 히스토그램"
   ]
  },
  {
   "cell_type": "code",
   "execution_count": null,
   "id": "83eb4aae",
   "metadata": {},
   "outputs": [],
   "source": [
    "import matplotlib.pylot ad plt\n",
    "plt.hist(wine['type'])\n",
    "plt.xticks([0, 1])\n",
    "plt.show()\n",
    "\n",
    "print(wine['type'].value_counts())"
   ]
  },
  {
   "cell_type": "markdown",
   "id": "f62b984a",
   "metadata": {},
   "source": [
    "![option](8_7.jpg)"
   ]
  },
  {
   "cell_type": "markdown",
   "id": "8eaa93aa",
   "metadata": {},
   "source": [
    "### 4. 데이터 정규화"
   ]
  },
  {
   "cell_type": "code",
   "execution_count": null,
   "id": "7eda95cc",
   "metadata": {},
   "outputs": [],
   "source": [
    "# 최소 0, 최대 1\n",
    "wine_norm = (wine - wine.min()) / (wine.max() - wine.min())\n",
    "print(wine_norm.head())\n",
    "print(wine_norm.describe())"
   ]
  },
  {
   "cell_type": "markdown",
   "id": "9beb96e0",
   "metadata": {},
   "source": [
    "### 5. 데이터 섞기"
   ]
  },
  {
   "cell_type": "code",
   "execution_count": null,
   "id": "6285862e",
   "metadata": {},
   "outputs": [],
   "source": [
    "import numpy as np\n",
    "\n",
    "wine_shuffle = wine_norm.sample(frac = 1)\n",
    "print(wine_shuffle.head())\n",
    "wine_np = wine_shuffle.to_numpy()\n",
    "print(wine_up[:5])"
   ]
  },
  {
   "cell_type": "markdown",
   "id": "bf0c4502",
   "metadata": {},
   "source": [
    "### 6. 학습 데이터와 테스트 데이터 분리"
   ]
  },
  {
   "cell_type": "markdown",
   "id": "b4030336",
   "metadata": {},
   "source": [
    "* 특징에서 마지막 값을 정답으로\n",
    "* 정답을 원 핫 인코딩으로"
   ]
  },
  {
   "cell_type": "code",
   "execution_count": null,
   "id": "21542dea",
   "metadata": {},
   "outputs": [],
   "source": [
    "import tensorflow as tf\n",
    "train_idx = int(len(wine_np) * 0.8)\n",
    "\n",
    "train_x, train_y = wine_np[:train_idx, :-1], wine_np[:train_idx, -1] # 정답 제외 / 정답만\n",
    "test_x, test_y = wine_np[:train_idx, :-1], wine_np[:train_idx, -1]\n",
    "print(train_x[0])\n",
    "print(train_y[0])\n",
    "print(test_x[0])\n",
    "print(test_y[0])\n",
    "\n",
    "train_y = tf.keras.utils.to_categoricial(train_y, num_classes = 2)\n",
    "test_y = tf.keras.utils.to_categoricial(test_y, num_classes = 2)\n",
    "print(train_y[0])\n",
    "print(test_y[0])"
   ]
  },
  {
   "cell_type": "markdown",
   "id": "89bc0f56",
   "metadata": {},
   "source": [
    "### 7. 원 핫 인코딩"
   ]
  },
  {
   "cell_type": "code",
   "execution_count": null,
   "id": "a3b87e6e",
   "metadata": {},
   "outputs": [],
   "source": [
    "y = [0, 1, 2, 3]\n",
    "tf.keras.utils.to_categorical(y, num_classes = 4)"
   ]
  },
  {
   "cell_type": "markdown",
   "id": "8e791d86",
   "metadata": {},
   "source": [
    "### 8. 딥러닝 모델 분류 모델 생성"
   ]
  },
  {
   "cell_type": "code",
   "execution_count": null,
   "id": "57c7f11a",
   "metadata": {},
   "outputs": [],
   "source": [
    "import tensorflow as tf\n",
    "model = tf.keras.Sequential ({\n",
    "    tf.keras.layers.Dense(units=48, activation='relu', input_shape=(12,)),\n",
    "    tf.keras.layers.Dense(units=24, activation='relu')\n",
    "    tf.keras.layers.Dense(units=12, activation='relu')\n",
    "    tf.keras.layers.Dense(units=2, activation='softmax') # 결과의 총합은 1\n",
    "                                                        # 큰 값을 강조하고 작은 값을 약화시키는 효과\n",
    "})\n",
    "model.compile(optimizer = tf.keras.optimizer.Adam(lr = 0.07),\n",
    "                loss = 'categorical_crossentropy', metrics = ['accuracy'])\n",
    "model.summary()   "
   ]
  },
  {
   "cell_type": "markdown",
   "id": "ea931987",
   "metadata": {},
   "source": [
    "### 9 . 모델 학습"
   ]
  },
  {
   "cell_type": "code",
   "execution_count": null,
   "id": "a50e9235",
   "metadata": {},
   "outputs": [],
   "source": [
    "history = model.fit(train_x, train_y, epochs = 25, batch_size = 32, validation_split=0.25)"
   ]
  },
  {
   "cell_type": "markdown",
   "id": "ad94a4fa",
   "metadata": {},
   "source": [
    "### 10. 시각화"
   ]
  },
  {
   "cell_type": "markdown",
   "id": "e227b668",
   "metadata": {},
   "source": [
    "![option](8_8.jpg)"
   ]
  }
 ],
 "metadata": {
  "kernelspec": {
   "display_name": "Python 3",
   "language": "python",
   "name": "python3"
  },
  "language_info": {
   "codemirror_mode": {
    "name": "ipython",
    "version": 3
   },
   "file_extension": ".py",
   "mimetype": "text/x-python",
   "name": "python",
   "nbconvert_exporter": "python",
   "pygments_lexer": "ipython3",
   "version": "3.8.8"
  }
 },
 "nbformat": 4,
 "nbformat_minor": 5
}

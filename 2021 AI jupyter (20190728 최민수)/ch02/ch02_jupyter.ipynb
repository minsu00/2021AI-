{
 "cells": [
  {
   "cell_type": "markdown",
   "id": "a6a7bb57",
   "metadata": {},
   "source": [
    "# Ch 02"
   ]
  },
  {
   "cell_type": "markdown",
   "id": "636500db",
   "metadata": {},
   "source": [
    "## Section 01 | 텐서플로 개요"
   ]
  },
  {
   "cell_type": "markdown",
   "id": "3fbeba9a",
   "metadata": {},
   "source": [
    "### 1. 텐서플로 개요"
   ]
  },
  {
   "cell_type": "markdown",
   "id": "25d75e58",
   "metadata": {},
   "source": [
    "   * 구글에서 만든 라이브러리\n",
    "       - 초보자 및 전문가에게 데스크톱, 모바일, 웹, 클라우드 개발용 API를 제공\n",
    "       - 연구 및 프로덕션용 오픈소스 딥러닝 라이브러리\n",
    "   <br><br>   \n",
    "   * 구현 및 사용\n",
    "       - 기본적으로 C++로 구현\n",
    "       - 파이썬을 최우선으로 지원"
   ]
  },
  {
   "cell_type": "markdown",
   "id": "5f08f324",
   "metadata": {},
   "source": [
    "### 2. 텐서(Tensor) 개요"
   ]
  },
  {
   "cell_type": "markdown",
   "id": "6c3d137e",
   "metadata": {},
   "source": [
    "* Tensoer(텐서) : 모든 데이터<br><br>\n",
    "    - 딥러닝에서 데이터를 표현하는 방식\n",
    "         * 0 - D : 스칼라\n",
    "         * 1 - D : 벡터\n",
    "         * 2 - D : 행렬 등<br><br>\n",
    "    - n차원 행렬(배열)\n",
    "        * 텐서는 행렬로 표현할 수 있는 n차원 형태의 배열을 높은 차원으로 확장"
   ]
  },
  {
   "cell_type": "markdown",
   "id": "1b52e076",
   "metadata": {},
   "source": [
    "![option](2_1.jpg)"
   ]
  },
  {
   "cell_type": "markdown",
   "id": "742c694f",
   "metadata": {},
   "source": [
    "### 3. 텐서의 사례"
   ]
  },
  {
   "cell_type": "markdown",
   "id": "4e1a8697",
   "metadata": {},
   "source": [
    "* 스칼라 : 차원이 없는 텐서\n",
    "    - 10<br><br>\n",
    "* 백터 값 : 1차원 텐서\n",
    "    - [10, 20, 30]<br><br>\n",
    "* 2차원 행렬 : 2차원 텐서\n",
    "    - 회색조 이미지\n",
    "        * 하나의 채널에 2차원 행렬(배열)로 표현\n",
    "    - [[1, 2, 3], [4, 5, 6]]<br><br>\n",
    "* 텐서 : n차원 행렬\n",
    "    - 텐서의 차원을 텐서의 rank(순위)라 함\n",
    "    - RGB 이미지\n",
    "    - [[[1, 2, 3], [4, 5, 6]], [[1, 2, 3], [4, 5, 6]]]"
   ]
  },
  {
   "cell_type": "markdown",
   "id": "e22dcc1a",
   "metadata": {},
   "source": [
    "### 4. Tensoer의 계산 과정"
   ]
  },
  {
   "cell_type": "markdown",
   "id": "a334a8e8",
   "metadata": {},
   "source": [
    "* TensorFlow에서 텐서(Tensor) 계산 과정\n",
    "    - 모두 그래프라고 부르는 객체 내에 저장되어 실행\n",
    "    - 계산하려면 외부 컴퓨터에 이 그래프를 전달하고 그 결과 값을 받아야 함<br><br>\n",
    "* Session\n",
    "    - 이 통신과정을 담당하는 것이 세션이라고 부르는 객체\n",
    "    - (1)생성, (2)사용, (3)종료 과정이 필요<br><br>\n",
    "    - 세션 생성\n",
    "        * Session 객체 생성\n",
    "    - 세션 사용\n",
    "        * run 메서드에 그래프를 입력하면 출력 값을 반환하여 반환\n",
    "    - 세션 종료\n",
    "        * close 메소드\n",
    "        * with 문을 사용하면 명시적으로 호출 불필요"
   ]
  },
  {
   "cell_type": "markdown",
   "id": "2175f190",
   "metadata": {},
   "source": [
    "![option](2_2.jpg)"
   ]
  },
  {
   "cell_type": "markdown",
   "id": "189ad794",
   "metadata": {},
   "source": [
    "### 5. 데이터 흐름 그래프(dataflow graph)"
   ]
  },
  {
   "cell_type": "markdown",
   "id": "de57aa40",
   "metadata": {},
   "source": [
    "* Tensorflow에서 계산\n",
    "    - 텐서 형태의 데이터들이 딥러닝 모델을 구성하는 연산들의 그래프를 따라 흐르면서 연산이 일어남<br><br>\n",
    "* Tensor + DataFlow\n",
    "    - 딥러닝에서 데이터를 의미하는 Tensor와 / DataFlow Graph를 따라 연산이 수행되는 형태를 합쳐 TensorFlow라는 말이 나오게 됨"
   ]
  },
  {
   "cell_type": "markdown",
   "id": "3ce3abdc",
   "metadata": {},
   "source": [
    "![option](2_3.jpg)"
   ]
  },
  {
   "cell_type": "markdown",
   "id": "82c339f1",
   "metadata": {},
   "source": [
    "### 6. TensorFlow API 탐색"
   ]
  },
  {
   "cell_type": "markdown",
   "id": "47bea735",
   "metadata": {},
   "source": [
    "* TensorFlow API 계층\n",
    "    - TensorFlow 딥 러닝 모델 구축 작업은 서로 다른 API 수준을 사용하여 해결\n",
    "        * 고급 API\n",
    "            - keras나 TF- Slim 과 같은 추상화 라이브러리를 제공\n",
    "            - 저수준 텐서플로 라이브러리에 대해 손쉽게 고수준 접근이 가능하게 해줌\n",
    "        * 중급 API\n",
    "        * 하급 API"
   ]
  },
  {
   "cell_type": "markdown",
   "id": "08310554",
   "metadata": {},
   "source": [
    "![option](2_4.jpg)"
   ]
  }
 ],
 "metadata": {
  "kernelspec": {
   "display_name": "Python 3",
   "language": "python",
   "name": "python3"
  },
  "language_info": {
   "codemirror_mode": {
    "name": "ipython",
    "version": 3
   },
   "file_extension": ".py",
   "mimetype": "text/x-python",
   "name": "python",
   "nbconvert_exporter": "python",
   "pygments_lexer": "ipython3",
   "version": "3.8.8"
  }
 },
 "nbformat": 4,
 "nbformat_minor": 5
}

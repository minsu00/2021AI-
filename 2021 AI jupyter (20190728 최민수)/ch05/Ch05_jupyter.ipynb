{
 "cells": [
  {
   "cell_type": "markdown",
   "id": "de3d0c6f",
   "metadata": {},
   "source": [
    "# Ch05"
   ]
  },
  {
   "cell_type": "markdown",
   "id": "e431b7a0",
   "metadata": {},
   "source": [
    "## Section 01 | MNIST 손글씨 예측과 오류 확인"
   ]
  },
  {
   "cell_type": "markdown",
   "id": "9993a5b1",
   "metadata": {},
   "source": [
    "### 1. 테스트 데이터의 첫 번째 손글씨 예측 결과를 확인"
   ]
  },
  {
   "cell_type": "markdown",
   "id": "80946d46",
   "metadata": {},
   "source": [
    "* model.predict(input)\n",
    "    - input 값\n",
    "        * 모델의 fit(), evaluate()에 입력과 같은 형태가 필요\n",
    "            - 모델 28 * 28 이미지가 여러 개인 3차원<br><br>\n",
    "    - 첫 번째 손글씨만 알아보더라도 3차원 배열로 입력\n",
    "        * 슬라이스해서 사용, x_test[:1]\n",
    "        * pred_result = model.predict(x_test[:1])<br><br>\n",
    "* 결과\n",
    "    - 정수 ?\n",
    "        * 손글씨 값의 정수\n",
    "    - 실제\n",
    "        * (1, 10)의 이차원 배열\n",
    "    - 결과\n",
    "        * 10개의 0 ~ 1의 실수\n",
    "    "
   ]
  },
  {
   "cell_type": "markdown",
   "id": "7aadc1aa",
   "metadata": {},
   "source": [
    "### 2. 정답으로 나온 10개의 실수는 확률 값"
   ]
  },
  {
   "cell_type": "markdown",
   "id": "f33b6d4a",
   "metadata": {},
   "source": [
    "* 0 ~ 1\n",
    "    - 확률 값?\n",
    "    - 10 개 합이 1\n",
    "* one hot encoding\n",
    "    - 하나의 자리만 1, 나머지는 모두 0\n",
    "* argmax() 로\n",
    "    - 가장 큰 수의 위치 첨자를 반환"
   ]
  },
  {
   "cell_type": "markdown",
   "id": "755cdb70",
   "metadata": {},
   "source": [
    "![option](5_1.jpg)"
   ]
  },
  {
   "cell_type": "markdown",
   "id": "d3e0788a",
   "metadata": {},
   "source": [
    "### 3. One Hot Encoding의 이해"
   ]
  },
  {
   "cell_type": "markdown",
   "id": "8de2cdc8",
   "metadata": {},
   "source": [
    "* 데이터가 취할 수 있는 모든 단일 범주에 대해 하나의 새 열을 생성\n",
    "    - 독, 전기, 물, 지면, 벌레 및 유령이라는 6개의 새로운 열이 필요\n",
    "    - 모든 행 (포켓몬스터)에서 범주에 속하는 경우 1을, 그렇지 않으면 0을 배치"
   ]
  },
  {
   "cell_type": "markdown",
   "id": "294c6c95",
   "metadata": {},
   "source": [
    "![option](5_2.jpg)"
   ]
  },
  {
   "cell_type": "markdown",
   "id": "dc07f099",
   "metadata": {},
   "source": [
    "### 4. MNIST 예측 결과인 확률"
   ]
  },
  {
   "cell_type": "markdown",
   "id": "73f8d1a9",
   "metadata": {},
   "source": [
    "* 각 위치(첨자 값)의  값일 확률로 결과\n",
    "![option](5_3.jpg)"
   ]
  },
  {
   "cell_type": "markdown",
   "id": "9ee346ea",
   "metadata": {},
   "source": [
    "### 5. 실제 손글씨를 그려 결과와 비교"
   ]
  },
  {
   "cell_type": "markdown",
   "id": "0ac309d8",
   "metadata": {},
   "source": [
    "* 맞은 결과 7\n",
    "    - 예측\n",
    "        * predict()\n",
    "        * 예측 결과는 원한 인코딩 확률 값\n",
    "            - 다시 argmax()로 변환"
   ]
  },
  {
   "cell_type": "markdown",
   "id": "1c2b8508",
   "metadata": {},
   "source": [
    "![option](5_4.jpg)"
   ]
  },
  {
   "cell_type": "markdown",
   "id": "4c92a889",
   "metadata": {},
   "source": [
    "### 6. 드롭아웃 개념"
   ]
  },
  {
   "cell_type": "markdown",
   "id": "d9f300ce",
   "metadata": {},
   "source": [
    "* 층에서 결과 값을 일정 비율로 제거하는 방법\n",
    "    - 오버피팅 문제를 해결하는 정규화 목적을 위해 필요\n",
    "        * 학습 데이터에 지나치게 집중해 실제 Test에서는 결과가 더 나쁘게 나오는 현상\n",
    "    - h2와 h5를 0으로 지정하여 사용되지 않게 조정"
   ]
  },
  {
   "cell_type": "markdown",
   "id": "e91aad63",
   "metadata": {},
   "source": [
    "![option](5_5.jpg)"
   ]
  },
  {
   "cell_type": "markdown",
   "id": "1451d572",
   "metadata": {},
   "source": [
    "### 7. 드롭 아웃 정리"
   ]
  },
  {
   "cell_type": "markdown",
   "id": "ae44cd91",
   "metadata": {},
   "source": [
    "* tf.keras.layers.Dropout(0.2)\n",
    "    - 확률 값은 0.2 ~ 0.5를 주로 사용<br><br>\n",
    "* Dropout\n",
    "    - 훈련 단계보다 더 많은 유닛이 활서화되기 때문에 균형을 맞추기 위해 층의 출력 값을 드롭아웃 비율만큼 줄이는 방법\n",
    "    - 일반적으로 훈련단계에서 적용\n",
    "        * 드롭아웃을 층에 적용하면 훈련하는 동안 층의 출력 특성을 랜덤하게 끔(off)\n",
    "            - 즉 0으로 지정\n",
    "    - 훈련하는 동안 어떤 입력 샘플에 대해 [0.2, 0.5, 1.3, 0.8, 1.1] 벡터를 출력하는 층이 있다고 가정\n",
    "        * 벡터에서 몇 개의 원소가 랜덤하게 0이 됨\n",
    "            - 예를 들면, [0, 0.5, 1.3, 0, 1.1]가 됨\n",
    "            - .2라면 \"드롭아웃 비율\"은 0이 되는 특서의 비율인 20%\n",
    "    - 테스트 단계에서는 어떤 유닛도 드롭아웃하지 않음<br><br>\n",
    "* tf.keras에서는 Dropout층을 이용해 네트워크에 드롭아웃을 추가\n",
    "    - 이 층은 바로 이전 층의 출력에 드롭아웃을 지정"
   ]
  },
  {
   "cell_type": "markdown",
   "id": "439158c6",
   "metadata": {},
   "source": [
    "* 드롭아웃 계층\n",
    "    - 학습 시간 동안 각 단계에서 속도의 빈도로 입력 단위를 무작위로 0으로 설정\n",
    "        * 과적합이 방지\n",
    "    - 0으로 설정되지 않은 입력\n",
    "        * 전체 입력의 한계가 변경되지 않도록 1 / (1 - rate)씩 증가\n",
    "* 지정한 비율로 0지정\n",
    "    - 0이 아닌 값\n",
    "        * 1 / (1-.2)배로 증가\n",
    "        * 1 * 1(-.2)\n",
    "            - 1.25\n",
    ">* **항상 비율에 맞는 0이 되지 않음, 총합도 마찬가지임**"
   ]
  },
  {
   "cell_type": "markdown",
   "id": "0319171f",
   "metadata": {},
   "source": [
    "![option](5_6.jpg)"
   ]
  },
  {
   "cell_type": "markdown",
   "id": "a62ea6d7",
   "metadata": {},
   "source": [
    "## Section 02 | 임의 20개 정답과 예측, 그리고 그림 그리기"
   ]
  },
  {
   "cell_type": "markdown",
   "id": "16cfba5b",
   "metadata": {},
   "source": [
    "* 예측 값과 20개의 첨자 구하기\n",
    "    - 리스트 pred_result\n",
    "        * 모델의 예측 결과, 확률 값\n",
    "    - 리스트 pred_labels\n",
    "        * 모델의 예측 결과, 정수\n",
    "    - 리스트 samples\n",
    "        * 출력할 20개의 첨자 리스트"
   ]
  },
  {
   "cell_type": "markdown",
   "id": "3a3d4ee5",
   "metadata": {},
   "source": [
    "![option](5_7.jpg)"
   ]
  },
  {
   "cell_type": "markdown",
   "id": "3fd16f1c",
   "metadata": {},
   "source": [
    "* pred_labels[n] == y_test[n]\n",
    "    - 예측이 맞는 경우\n",
    "    - 리스트 pred_labels\n",
    "        * 모델의 예측 결과, 정수\n",
    "    - 리스트 y_test\n",
    "        * 훈련 데이터 정답\n",
    "* 예측이 틀린 것은 'Blues'로 그리기<br><br>\n",
    "![option](5_8.jpg)"
   ]
  },
  {
   "cell_type": "markdown",
   "id": "fcc72396",
   "metadata": {},
   "source": [
    "**예측값**"
   ]
  },
  {
   "cell_type": "markdown",
   "id": "3399f5e7",
   "metadata": {},
   "source": [
    "![option](5_9.jpg)"
   ]
  },
  {
   "cell_type": "markdown",
   "id": "4f06c530",
   "metadata": {},
   "source": [
    "**정답**"
   ]
  },
  {
   "cell_type": "markdown",
   "id": "d06b4479",
   "metadata": {},
   "source": [
    "![option](5_10.jpg)"
   ]
  }
 ],
 "metadata": {
  "kernelspec": {
   "display_name": "Python 3",
   "language": "python",
   "name": "python3"
  },
  "language_info": {
   "codemirror_mode": {
    "name": "ipython",
    "version": 3
   },
   "file_extension": ".py",
   "mimetype": "text/x-python",
   "name": "python",
   "nbconvert_exporter": "python",
   "pygments_lexer": "ipython3",
   "version": "3.8.8"
  }
 },
 "nbformat": 4,
 "nbformat_minor": 5
}

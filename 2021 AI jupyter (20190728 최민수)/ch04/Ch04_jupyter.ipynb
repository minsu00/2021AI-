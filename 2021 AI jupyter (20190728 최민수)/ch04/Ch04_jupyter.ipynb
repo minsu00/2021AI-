{
 "cells": [
  {
   "cell_type": "markdown",
   "id": "d8bd634f",
   "metadata": {},
   "source": [
    "# Ch04"
   ]
  },
  {
   "cell_type": "markdown",
   "id": "570a7b70",
   "metadata": {},
   "source": [
    "## Section 01 | MNIST 데이터, 딥러닝 모델 적용 예측"
   ]
  },
  {
   "cell_type": "markdown",
   "id": "8468325a",
   "metadata": {},
   "source": [
    "### 1. MNIST 데이터 셋을 위한 딥러닝"
   ]
  },
  {
   "cell_type": "markdown",
   "id": "dfb7640f",
   "metadata": {},
   "source": [
    "* 0에서 9까지의 분류\n",
    "    - Number of classes : 10\n",
    "![option](4_1.jpg)"
   ]
  },
  {
   "cell_type": "markdown",
   "id": "db7784fb",
   "metadata": {},
   "source": [
    "### 2. 딥러닝 과정"
   ]
  },
  {
   "cell_type": "markdown",
   "id": "ac9b7194",
   "metadata": {},
   "source": [
    "* 모델 구성(개발)\n",
    "    - 블랙 박스\n",
    "* 모델 훈련 : train\n",
    "    - 모델이 문제를 해결하도록 훈련\n",
    "        * 어린 아이가 부모에게 훈련받는 것과 비슷\n",
    "    - 훈육 방법과 여러 설정\n",
    "        * 경사하강법(내리막 따라가기)\n",
    "        * 손실 함수(Loss Fuction)\n",
    "        * 모니터링 지표 mrtrics\n",
    "        ![option](4_2.jpg)\n",
    "* 예측 : inference, prediction"
   ]
  },
  {
   "cell_type": "markdown",
   "id": "67d6d7aa",
   "metadata": {},
   "source": [
    "### 3. 딥러닝 구현 순서"
   ]
  },
  {
   "cell_type": "markdown",
   "id": "a5c2a699",
   "metadata": {},
   "source": [
    "* 0 필요 모듈 임포트\n",
    ">* 1. 훈련과 정답 데이터 지정\n",
    ">* 2. 모델 구성\n",
    ">* 3. 학습에 필요한 최적화 방법과 손실 함수 등 설정\n",
    ">* 4. 생성된 모델로 훈련 데이터 학습\n",
    ">* 5. 테스트 데이터로 성능 평가"
   ]
  },
  {
   "cell_type": "markdown",
   "id": "e23922eb",
   "metadata": {},
   "source": [
    "### 4. 주요 용어"
   ]
  },
  {
   "cell_type": "markdown",
   "id": "72280d83",
   "metadata": {},
   "source": [
    "* 데이터 셋\n",
    "    - 훈련용과 테스트용\n",
    "        * Train data set, Test data set\n",
    "        * x(입력 문제), y (정답 레이블)\n",
    "    - 전처리<br><br>\n",
    "* 모델\n",
    "    -  딥러닝 핵심 신경망, 여러 층 구성\n",
    "        * 옵티마이저, 최적화 방법\n",
    "    - 손실 함수\n",
    "        * Cross entropy(크로스앤트로피), MSE(Mean Square Error 평균제곱오차)<br><br>\n",
    "* 딥러닝 훈련\n",
    "    - Epochs\n",
    "        * 총 훈련 횟수, 훈련 데이터를 한번 모두 훈련시키는 것이 1 에폭"
   ]
  },
  {
   "cell_type": "markdown",
   "id": "7ff66bce",
   "metadata": {},
   "source": [
    "### 4-1. 훈련과 정답 데이터 지정"
   ]
  },
  {
   "cell_type": "markdown",
   "id": "282cb213",
   "metadata": {},
   "source": [
    "* MNIST 데이터셋을 로드하여 준비\n",
    "    - 전처리\n",
    "        * 샘플 값을 정수에서 부동소수로 변환\n",
    "            - 한 비트의 값을 255로 나눔\n",
    "            ![option](4_3.jpg)"
   ]
  },
  {
   "cell_type": "markdown",
   "id": "de338d23",
   "metadata": {},
   "source": [
    "### 4-2. 모델 구성"
   ]
  },
  {
   "cell_type": "markdown",
   "id": "a0006aa3",
   "metadata": {},
   "source": [
    "* 층을 차례대로 쌓아 모델을 생성\n",
    "    - 신경망 구성\n",
    "    ![option](4_4.jpg)"
   ]
  },
  {
   "cell_type": "markdown",
   "id": "82431523",
   "metadata": {},
   "source": [
    "* 모델에서 2차원 그림을 1차원으로 평탄화\n",
    "* Flatten(input_shape = (28, 28))\n",
    "    - 6000개의 (28, 28) 크기의 배열로 수정\n",
    "    ![option](4_5.jpg)"
   ]
  },
  {
   "cell_type": "markdown",
   "id": "f2da95ae",
   "metadata": {},
   "source": [
    "### 4-3. 학습에 필요한 최적화 방법과 손실 함수 등 설정"
   ]
  },
  {
   "cell_type": "markdown",
   "id": "8a7057c5",
   "metadata": {},
   "source": [
    "* 훈련에 사용할 옵티마이저와 손실 함수 등을 선택\n",
    "    - 옵티마이저:\n",
    "        * 입력된 데이터와 손실 함수를 기반으로 모델(w와 b)을 업데이트하는 메커니즘\n",
    "    - 손실 함수:\n",
    "        * 훈련 데이터에서 신경망의 성능을 측정하는 방법\n",
    "        * 모델이 옳은 방향으로 학습될 수 있도록 도와 주는 기준 값\n",
    "    - 훈련과 테스트 과정을 모니터링할 지표\n",
    "        * 여기에서는 정확도(정확히 분류된 이미지의 비율)민 고려<br><br>\n",
    "* 모델 요약\n",
    "    - complite 전에도 summary()사용 가능\n",
    "![option](4_6.jpg)"
   ]
  },
  {
   "cell_type": "markdown",
   "id": "24e58905",
   "metadata": {},
   "source": [
    "### 4-4 생성된 모델로 훈련 데이터 학습"
   ]
  },
  {
   "cell_type": "markdown",
   "id": "67fb9690",
   "metadata": {},
   "source": [
    "* 모델을 훈련\n",
    "    - 훈련 횟수를 epochs에 지정"
   ]
  },
  {
   "cell_type": "markdown",
   "id": "4a92f555",
   "metadata": {},
   "source": [
    "![option](4_7.jpg)"
   ]
  },
  {
   "cell_type": "markdown",
   "id": "5e480aa8",
   "metadata": {},
   "source": [
    "### 4-5 테스트 데이터로 성능 평가"
   ]
  },
  {
   "cell_type": "markdown",
   "id": "b216ea3c",
   "metadata": {},
   "source": [
    "* 모델을 평가\n",
    "    - 테스트 세트에서도 모델이 잘 작동하는 지 확인\n",
    "        * 손실 값과 예측 정확도 반환"
   ]
  },
  {
   "cell_type": "markdown",
   "id": "5578ef4d",
   "metadata": {},
   "source": [
    "![option](4_8.jpg)"
   ]
  },
  {
   "cell_type": "markdown",
   "id": "ea5e56e7",
   "metadata": {},
   "source": [
    "### 5 . 딥러닝 구현 전 소스 "
   ]
  },
  {
   "cell_type": "markdown",
   "id": "6e029ca7",
   "metadata": {},
   "source": [
    "![option](4_9.jpg)"
   ]
  }
 ],
 "metadata": {
  "kernelspec": {
   "display_name": "Python 3",
   "language": "python",
   "name": "python3"
  },
  "language_info": {
   "codemirror_mode": {
    "name": "ipython",
    "version": 3
   },
   "file_extension": ".py",
   "mimetype": "text/x-python",
   "name": "python",
   "nbconvert_exporter": "python",
   "pygments_lexer": "ipython3",
   "version": "3.8.8"
  }
 },
 "nbformat": 4,
 "nbformat_minor": 5
}

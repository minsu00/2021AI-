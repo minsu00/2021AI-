{
 "cells": [
  {
   "cell_type": "markdown",
   "id": "18b0b566",
   "metadata": {},
   "source": [
    "# Ch01 "
   ]
  },
  {
   "cell_type": "markdown",
   "id": "58c9582b",
   "metadata": {},
   "source": [
    "## Section 01 | 인공지능과 딥러닝 개요"
   ]
  },
  {
   "cell_type": "markdown",
   "id": "863fdb94",
   "metadata": {},
   "source": [
    "- 머신러닝과 딥러닝<br>\n",
    "- 딥러닝"
   ]
  },
  {
   "cell_type": "markdown",
   "id": "6e6368b4",
   "metadata": {},
   "source": [
    "### 1. AI 시작"
   ]
  },
  {
   "cell_type": "markdown",
   "id": "60738719",
   "metadata": {},
   "source": [
    "- 인간의 두뇌를 모델로 한 퍼셉트론의 원류"
   ]
  },
  {
   "cell_type": "markdown",
   "id": "72b3d2de",
   "metadata": {},
   "source": [
    "### 2. 기호주의와 연결주의"
   ]
  },
  {
   "cell_type": "markdown",
   "id": "b540f048",
   "metadata": {},
   "source": [
    "- 기호주의 <br><br>\n",
    "    - 인간의 지능과 지식을 기호화하여 학습시키는 방법\n",
    "        * 기호와 규칙을 사용하는 규칙 기반 인공지능"
   ]
  },
  {
   "cell_type": "markdown",
   "id": "cb7715b1",
   "metadata": {},
   "source": [
    "- 연결주의 <br><br>\n",
    "    * 두뇌 신경을 모형화\n",
    "        * 여러 신경을 네트워크 구조로 연결해 연결 강도를 학습시키는 방법\n",
    "        * 신경망 기반 인공지능"
   ]
  },
  {
   "cell_type": "markdown",
   "id": "8d32acae",
   "metadata": {},
   "source": [
    "## Section 02 | 인공지능 개요"
   ]
  },
  {
   "cell_type": "markdown",
   "id": "0dfe6921",
   "metadata": {},
   "source": [
    "### 1. 인공지능과 머신러닝, 딥러닝"
   ]
  },
  {
   "cell_type": "markdown",
   "id": "4b891004",
   "metadata": {},
   "source": [
    "- **인공지능** <br>\n",
    "    - 컴퓨터가 인간처럼 지적 능력을 갖게 하거나 행동하도록 하는 모든 기술\n",
    "  "
   ]
  },
  {
   "cell_type": "markdown",
   "id": "d3f31446",
   "metadata": {},
   "source": [
    "- **머신러닝** <br>\n",
    "    - 기계가 스스로 학습을 할 수 있도록 하는 인공지능\n",
    "  "
   ]
  },
  {
   "cell_type": "markdown",
   "id": "ba198592",
   "metadata": {},
   "source": [
    "![option](1.jpg)"
   ]
  },
  {
   "cell_type": "markdown",
   "id": "a4bc73c0",
   "metadata": {},
   "source": [
    "  '''  <br><br>\n",
    "    - 지도학습\n",
    "        * 올바른 입력과 출력의 쌍으로 구성된 정답의 훈련 데이터로부터 입출력 간의 함수를 학습시키는 방법 <br><br>\n",
    "    - 자율학습\n",
    "        * 정답이 없는 훈련 데이터를 사용하여 데이터 내의 숨어있는 어떤 관계를 찾아내는 방법 <br><br>\n",
    "    - 강화학습\n",
    "        * 잘한 행동에 대해 보상을 주고 잘못한 행동에 대해 벌을 주는 경험을 통해 지식을 학습하는 방법 <br><br>\n",
    "        \n",
    "  '''"
   ]
  },
  {
   "cell_type": "markdown",
   "id": "9934b3ff",
   "metadata": {},
   "source": [
    "### 2. 머신러닝과 딥러닝의 차이점"
   ]
  },
  {
   "cell_type": "markdown",
   "id": "8ecc05c7",
   "metadata": {},
   "source": [
    "![option](2.jpg)"
   ]
  },
  {
   "cell_type": "markdown",
   "id": "12e2ea49",
   "metadata": {},
   "source": [
    "- 특징과 데이터가 많을수록 딥러닝에 적합"
   ]
  },
  {
   "cell_type": "markdown",
   "id": "7a227b04",
   "metadata": {},
   "source": [
    "### 3. 인공뉴런과 ANN"
   ]
  },
  {
   "cell_type": "markdown",
   "id": "6ef950dc",
   "metadata": {},
   "source": [
    "* 인공뉴런<br><br>\n",
    "    - 인간의 뇌는 1000억개의 뉴런으로 구성\n",
    "        * 뇌를 구성하는 신경세포의 뉴런의 동작 원리에 기초한 기술<br><br>       \n",
    "    - 인간의 신경세포인 뉴런을 모방하여 만든 가상의 환경\n",
    "        * 뇌와 유사한 방식으로 입력되는 정보를 학습하고 판별하는 신경 모델"
   ]
  },
  {
   "cell_type": "markdown",
   "id": "fd67fec7",
   "metadata": {},
   "source": [
    "* 인공신경망\n",
    "    - 기계학습과 인지과학에서 생물학의 신경망에서 영감을 얻은 수리적 학습 알고리즘"
   ]
  }
 ],
 "metadata": {
  "kernelspec": {
   "display_name": "Python 3",
   "language": "python",
   "name": "python3"
  },
  "language_info": {
   "codemirror_mode": {
    "name": "ipython",
    "version": 3
   },
   "file_extension": ".py",
   "mimetype": "text/x-python",
   "name": "python",
   "nbconvert_exporter": "python",
   "pygments_lexer": "ipython3",
   "version": "3.8.8"
  }
 },
 "nbformat": 4,
 "nbformat_minor": 5
}

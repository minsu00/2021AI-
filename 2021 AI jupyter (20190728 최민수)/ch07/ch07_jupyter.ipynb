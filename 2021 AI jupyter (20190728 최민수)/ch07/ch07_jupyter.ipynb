{
 "cells": [
  {
   "cell_type": "markdown",
   "id": "a40696a6",
   "metadata": {},
   "source": [
    "# Ch 07"
   ]
  },
  {
   "cell_type": "markdown",
   "id": "d37ddd20",
   "metadata": {},
   "source": [
    "## Section 1 | 선형 회귀 이해와 구현"
   ]
  },
  {
   "cell_type": "markdown",
   "id": "ba702370",
   "metadata": {},
   "source": [
    "### 1. 회귀와 분류"
   ]
  },
  {
   "cell_type": "markdown",
   "id": "811b59f3",
   "metadata": {},
   "source": [
    "* 회귀 모델\n",
    "    - 연속적인 값을 예측\n",
    "        * 캘리포니아의 주택 가격이 얼마인가요?\n",
    "        * 사용자가 이 광고를 클릭할 확률이 얼마인가요?\n",
    "* 분류 모델\n",
    "    - 불연속적인 값을 예측\n",
    "        * 주어진 메세지가 스팸인가요?, 아닌가요?\n",
    "        * 이 이미지가 고양인가요?, 강아진가요?"
   ]
  },
  {
   "cell_type": "markdown",
   "id": "7ab5c87c",
   "metadata": {},
   "source": [
    "### 2. 회귀의 어원"
   ]
  },
  {
   "cell_type": "markdown",
   "id": "074dae2e",
   "metadata": {},
   "source": [
    "* 회귀 분석\n",
    "    - 관찰된 연속형 변수들의 대해 두 변수 사이의 모형을 구한 뒤 적합도를 측정\n",
    "    - 시간에 따라 변화하는 데이터나 어떤 영향, 가설적 실험, 인과 관계의 모델링 등 통계적 예측에 이용"
   ]
  },
  {
   "cell_type": "markdown",
   "id": "b38c3f39",
   "metadata": {},
   "source": [
    "## Section 2 | 선형 회귀"
   ]
  },
  {
   "cell_type": "markdown",
   "id": "9af19da6",
   "metadata": {},
   "source": [
    "### 1. 선형 회귀와 로지스틱 회귀"
   ]
  },
  {
   "cell_type": "markdown",
   "id": "7ac9dc63",
   "metadata": {},
   "source": [
    "* 단순 선형 회귀 분석\n",
    "    - 입력 : 특징이 하나\n",
    "    - 출력 : 하나의 값\n",
    "        * 키로 몸무게 측정\n",
    "        ![option](7_1.jpg)\n",
    "* 다중 선형 회귀 분석\n",
    "    - 입력 :  특징이 여러 개, 출력 : 하나의 값\n",
    "        * 역세권, 아파트 평수, 주소로 아파트 값을 측정\n",
    "        ![option](7_2.jpg)\n",
    "* 로지스틱 회귀\n",
    "    - 이진 분류\n",
    "    - 입력 : 하나 또는 여러 개, 출력 : 0 아니면 1"
   ]
  },
  {
   "cell_type": "markdown",
   "id": "d727a2e0",
   "metadata": {},
   "source": [
    "### 2. 주요 용어 정리"
   ]
  },
  {
   "cell_type": "markdown",
   "id": "5cd6d3d0",
   "metadata": {},
   "source": [
    "* 가설\n",
    "    - 가중치(W)와 평향(b)\n",
    "    - 기울기와 절편\n",
    "* 손실 함수\n",
    "    - MSE(평균제곱오차)\n",
    "* 경사 하강법\n",
    "    - 내리막 경사 따라가기\n",
    "* 학습률\n",
    "    - 대표적인 하이퍼패러미터"
   ]
  },
  {
   "cell_type": "markdown",
   "id": "1de1ccdf",
   "metadata": {},
   "source": [
    "### 3. 선형 회귀"
   ]
  },
  {
   "cell_type": "markdown",
   "id": "883c8ecb",
   "metadata": {},
   "source": [
    "* 선형 회귀(딥러닝)\n",
    "    - 데이터의 경향성을 가장 잘 설명하는 하나의 직선을 예측하는 방법\n",
    "        * Y = wX + b;\n",
    "        ![option](7_3.jpg)"
   ]
  },
  {
   "cell_type": "markdown",
   "id": "ee4eb82b",
   "metadata": {},
   "source": [
    "### 3-1. 가설"
   ]
  },
  {
   "cell_type": "markdown",
   "id": "65a0c6e5",
   "metadata": {},
   "source": [
    "* 머신 러닝 ; y와 x간의 관계를 유추한 식을 가설\n",
    "     - 공부시간 x, 점수  y\n",
    "     ![option](7_4.jpg)\n"
   ]
  },
  {
   "cell_type": "markdown",
   "id": "b47ecb9b",
   "metadata": {},
   "source": [
    "### 3-2. 손실 함수"
   ]
  },
  {
   "cell_type": "markdown",
   "id": "88f6310d",
   "metadata": {},
   "source": [
    "* 정의\n",
    "    - 실제 값과 가설로부터 얻은 예측 값의 오차를 계산하는 식\n",
    "    - 평균 제곱 오차(MSE) 등을 사용\n",
    "    ![option](7_5.jpg)"
   ]
  },
  {
   "cell_type": "markdown",
   "id": "6ff04bcd",
   "metadata": {},
   "source": [
    "* W와 b값을 찾아내기 위해 오차의 크기를 측정할 방법이 필요\n",
    "    - 오차는 실제 데이터(빨간 점)와 예측 선(파란 선)의 차이의 제곱의 합\n",
    "    ![option](7_6.jpg)"
   ]
  },
  {
   "cell_type": "markdown",
   "id": "ab4135b3",
   "metadata": {},
   "source": [
    "### 3-3. 경사하강법"
   ]
  },
  {
   "cell_type": "markdown",
   "id": "839b8eca",
   "metadata": {},
   "source": [
    "* 비용 함수(Cost Function)값을 최소로 하는 W와 b를 찾는 방법\n",
    "* 경사 따라 내려 오기\n",
    "![option](7_7.jpg)"
   ]
  },
  {
   "cell_type": "markdown",
   "id": "2ff43d46",
   "metadata": {},
   "source": [
    "* 첫 번째 단계\n",
    "    - 시작 값을 선택\n",
    "        * 시작점은 별로 중요 X\n",
    "        * 많은 알고리즘에서는 0으로 설정하거나 임의의 값을 선택\n",
    "    - 시작점에서 손실 곡선의 기울기를 계산\n",
    "        * 단일 가중치에 대한 손실의 기울기는 미분 값과 같음"
   ]
  },
  {
   "cell_type": "markdown",
   "id": "a827ffad",
   "metadata": {},
   "source": [
    "* 두 번째 단계\n",
    "    - 가중치를 조정하여 기울기가 0인 지점을 찾음\n",
    "         * 가중치 조절방법\n",
    "        >    - 기울기에 학습률를 곱하여 다음 지점을 결정\n",
    "        >    - ex) 기울기 -2.5, 학습률 0.01\n",
    "        >        * w = w - (-2.5 * 0.01) = w + 0.025\n",
    "        >        * 이전 지점으로부터 0.025 떨어진 지점으로 결정\n",
    "    - 너무 작게 설정하면 학습시간 매우 오래 걸림\n",
    "    - 반대로 너무 크게 설정하면 최소값을 이탈할 우려가 있음\n",
    "        * 0.001 ~ 0.1 정도 사용"
   ]
  },
  {
   "cell_type": "markdown",
   "id": "c0d0ccae",
   "metadata": {},
   "source": [
    "* 정리\n",
    "    > - 비용 함수를 미분하여 현재 w에서의 접선의 기울기를 구하고\n",
    "    > - 기울기가 낮은 방향으로 다시 미분\n",
    "    > - 이 과정을 통해 기울기가 0인 곳을 향해 w의 값을 변경하는 작업을 반복하는 것"
   ]
  },
  {
   "cell_type": "markdown",
   "id": "c17d3186",
   "metadata": {},
   "source": [
    "## | 예시 문제 y = 2x "
   ]
  },
  {
   "cell_type": "markdown",
   "id": "e50a1768",
   "metadata": {},
   "source": [
    "* y = 2x 에 해당하는 값을 예측\n",
    "    >- 훈련 데이터\n",
    "    >    * x_train = [1, 2, 3, 4]\n",
    "    >    * y_train = [2, 4, 6, 8]\n",
    "    \n",
    "    >- 테스트 데이터\n",
    "    >    * x_test = [1.2, 2.3, 3.4, 4.5]\n",
    "    >    * y_test = [2.4, 4.6, 6.8, 9.0]\n",
    "    \n",
    "* 예측, 다음 x에 대해 예측되는 y를 출력\n",
    "    - [3.5, 5, 5.5, 6]"
   ]
  },
  {
   "cell_type": "markdown",
   "id": "81045dc9",
   "metadata": {},
   "source": [
    "### 1. 문제와 정답 데이터 지정"
   ]
  },
  {
   "cell_type": "code",
   "execution_count": null,
   "id": "cff979b6",
   "metadata": {},
   "outputs": [],
   "source": [
    "x_train = [1, 2, 3, 4]\n",
    "y_train = [2, 4, 6, 8]"
   ]
  },
  {
   "cell_type": "markdown",
   "id": "2b57f51f",
   "metadata": {},
   "source": [
    "### 2. 모델 생성"
   ]
  },
  {
   "cell_type": "code",
   "execution_count": null,
   "id": "e31f92bf",
   "metadata": {},
   "outputs": [],
   "source": [
    "model = sequential([\n",
    "    Dense(1, input_shape = (1, ), activation= 'linear')\n",
    "])"
   ]
  },
  {
   "cell_type": "markdown",
   "id": "be4ad620",
   "metadata": {},
   "source": [
    "### 3. 학습에 필요한 최적화 방법과 손실 함수 등 지정"
   ]
  },
  {
   "cell_type": "code",
   "execution_count": null,
   "id": "c52b7d8c",
   "metadata": {},
   "outputs": [],
   "source": [
    "# 훈련에 사용할 옵티마이저와 손실 함수, 출력정보를 선택\n",
    "model.compile(optimizer= 'SGD', loss = 'mse',\n",
    "             metrics = ['mae', 'mse']) # mae(평균 절대 오차), mse(오차 평균 제곱 합) - \n",
    "# 모델을 표시(시각화)\n",
    "model.summary()\n"
   ]
  },
  {
   "cell_type": "markdown",
   "id": "eada1584",
   "metadata": {},
   "source": [
    "### 4. 생성된 모델로 훈련 데이터 학습"
   ]
  },
  {
   "cell_type": "code",
   "execution_count": null,
   "id": "f9a12df8",
   "metadata": {},
   "outputs": [],
   "source": [
    "model.fit(x_train, y_train, epochs = 1000)"
   ]
  },
  {
   "cell_type": "markdown",
   "id": "595020f3",
   "metadata": {},
   "source": [
    "### 5. 테스트 데이터로 성능 평가"
   ]
  },
  {
   "cell_type": "code",
   "execution_count": null,
   "id": "c4bb57c2",
   "metadata": {},
   "outputs": [],
   "source": [
    "x_test = [1.2, 2.3, 3.4, 4.5]\n",
    "y_test = [2.4, 4.6, 6.8, 9.0]\n",
    "print('정확도:', model.evaluate(x_test, y_test))\n",
    "\n",
    "print(model.predict([3.5, 5, 5.5, 6]))"
   ]
  },
  {
   "cell_type": "markdown",
   "id": "32e8eb9b",
   "metadata": {},
   "source": [
    "![option](7_10.jpg)"
   ]
  }
 ],
 "metadata": {
  "kernelspec": {
   "display_name": "Python 3",
   "language": "python",
   "name": "python3"
  },
  "language_info": {
   "codemirror_mode": {
    "name": "ipython",
    "version": 3
   },
   "file_extension": ".py",
   "mimetype": "text/x-python",
   "name": "python",
   "nbconvert_exporter": "python",
   "pygments_lexer": "ipython3",
   "version": "3.8.8"
  }
 },
 "nbformat": 4,
 "nbformat_minor": 5
}

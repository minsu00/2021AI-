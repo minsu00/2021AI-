{
 "cells": [
  {
   "cell_type": "markdown",
   "id": "3c60289f",
   "metadata": {},
   "source": [
    "# Ch06"
   ]
  },
  {
   "cell_type": "markdown",
   "id": "61aa8e3d",
   "metadata": {},
   "source": [
    "## Section 01 | 인공 신경망 퍼셉트론의 이해"
   ]
  },
  {
   "cell_type": "markdown",
   "id": "71a3658b",
   "metadata": {},
   "source": [
    "### 1. 인공 신경 세포 "
   ]
  },
  {
   "cell_type": "markdown",
   "id": "3ab94796",
   "metadata": {},
   "source": [
    "* 뉴런\n",
    "    - 입력\n",
    "    - 편향 <br><br>\n",
    "* 신경망\n",
    "    - 뉴런의 연결\n",
    "![option](6_1.jpg)"
   ]
  },
  {
   "cell_type": "markdown",
   "id": "10c8fe85",
   "metadata": {},
   "source": [
    "### 2. 뉴런 연산"
   ]
  },
  {
   "attachments": {},
   "cell_type": "markdown",
   "id": "4c953307",
   "metadata": {},
   "source": [
    "* 뉴런 식\n",
    "    - o = w * x + b\n",
    "![option](6_2.jpg)\n",
    "* 가중치와 편향\n",
    "![option](6_3.jpg)"
   ]
  },
  {
   "cell_type": "markdown",
   "id": "251ac40b",
   "metadata": {},
   "source": [
    "### 3. 활성화 함수  ReLU, sigmoid"
   ]
  },
  {
   "cell_type": "markdown",
   "id": "542f2c83",
   "metadata": {},
   "source": [
    "* ReLU\n",
    "    - Rectified(정류된) Linear Unit(선형 함수, y = x를 의미)\n",
    "        * 선형 함수를 정류하여 0 이하는 모두 0으로 한 함수\n",
    "        * max (x, 0)\n",
    "            - 양수만 사용           \n",
    "    - 2010년 이후\n",
    "        * 층이 깊어질수록(deep) 많이 사용\n",
    "            - 양수를 그대로 반환하므로 값의 왜곡이 적어지는 효과<br><br>\n",
    "            \n",
    "* Sigmoid\n",
    "    - s자 형태의 곡선이라는 의미\n",
    "![option](6_4.jpg)"
   ]
  },
  {
   "cell_type": "markdown",
   "id": "8dbbec34",
   "metadata": {},
   "source": [
    "### 4. 입출력의 예"
   ]
  },
  {
   "cell_type": "markdown",
   "id": "6e288ac8",
   "metadata": {},
   "source": [
    "* 출력 함수\n",
    "    - 동일 함수를 적용\n",
    "![option](6_5.jpg)"
   ]
  },
  {
   "cell_type": "markdown",
   "id": "96525523",
   "metadata": {},
   "source": [
    "### 5. 일반화된 인공신경망"
   ]
  },
  {
   "cell_type": "markdown",
   "id": "2a92f309",
   "metadata": {},
   "source": [
    "![option](6_6.jpg)"
   ]
  },
  {
   "cell_type": "markdown",
   "id": "983fc7eb",
   "metadata": {},
   "source": [
    "### 6. 활성화 함수와 편향"
   ]
  },
  {
   "cell_type": "markdown",
   "id": "b074da7a",
   "metadata": {},
   "source": [
    "* 결과 값이 임계 값 역할\n",
    "    - 결과가 임계 값 이상이면 활성화\n",
    "    - 결과가 임계 값 미만이면 비활성화\n",
    "![option](6_7.jpg)"
   ]
  },
  {
   "cell_type": "markdown",
   "id": "434eb1c2",
   "metadata": {},
   "source": [
    "## Section 02 | 인공신경망 행렬 연산"
   ]
  },
  {
   "cell_type": "markdown",
   "id": "be52ea32",
   "metadata": {},
   "source": [
    "### 1. 신경망 행렬 계산"
   ]
  },
  {
   "cell_type": "markdown",
   "id": "30b598fb",
   "metadata": {},
   "source": [
    "![option](6_8.jpg)"
   ]
  },
  {
   "cell_type": "markdown",
   "id": "349328c1",
   "metadata": {},
   "source": [
    "### 2. 하나의 출력 뉴련 연산"
   ]
  },
  {
   "cell_type": "markdown",
   "id": "303a4c31",
   "metadata": {},
   "source": [
    "![option](6_9.jpg)"
   ]
  },
  {
   "cell_type": "markdown",
   "id": "103522e6",
   "metadata": {},
   "source": [
    "### 3. 자연수와 자연수의 지수 승"
   ]
  },
  {
   "cell_type": "markdown",
   "id": "c37fc826",
   "metadata": {},
   "source": [
    "* e\n",
    "    - 지연수, 오일러 수\n",
    "    - 2.71828\n",
    "![option](6_10.jpg)"
   ]
  },
  {
   "cell_type": "markdown",
   "id": "3632cf03",
   "metadata": {},
   "source": [
    "### 4. 시그모이드 함수"
   ]
  },
  {
   "cell_type": "markdown",
   "id": "af440ac5",
   "metadata": {},
   "source": [
    "* S자 곡선\n",
    "    - (0, 1) 사이의 값\n",
    "![option](6_12.jpg)\n",
    "![option](6_11.jpg)"
   ]
  },
  {
   "cell_type": "markdown",
   "id": "ef7bee7e",
   "metadata": {},
   "source": [
    "### 5. ReLU 함수"
   ]
  },
  {
   "attachments": {},
   "cell_type": "markdown",
   "id": "cf3efbcf",
   "metadata": {},
   "source": [
    "* X\n",
    "    - 음수 0\n",
    "    - 양수 값\n",
    "![option](6_13.jpg)\n",
    "![option](6_14.jpg)"
   ]
  },
  {
   "cell_type": "markdown",
   "id": "8cbf479d",
   "metadata": {},
   "source": [
    "### 6. 시그모이드 ReLU 함께 그리기"
   ]
  },
  {
   "cell_type": "markdown",
   "id": "bb4eaa9d",
   "metadata": {},
   "source": [
    "![option](6_15.jpg)"
   ]
  },
  {
   "cell_type": "markdown",
   "id": "690f4075",
   "metadata": {},
   "source": [
    "![option](6_16.jpg)"
   ]
  },
  {
   "cell_type": "markdown",
   "id": "0f176853",
   "metadata": {},
   "source": [
    "![option](6_17.jpg)"
   ]
  },
  {
   "cell_type": "markdown",
   "id": "bb5449a0",
   "metadata": {},
   "source": [
    "## Section 03 | 논리 게이트 AND OR XOR 신경망 구현"
   ]
  },
  {
   "cell_type": "markdown",
   "id": "d3aa336b",
   "metadata": {},
   "source": [
    "### 1. AND 게이트 구현"
   ]
  },
  {
   "cell_type": "markdown",
   "id": "b29c24ff",
   "metadata": {},
   "source": [
    "* 뉴런 구조\n",
    "    - 입력 2개, 편향, 출력 1\n",
    "    - 구할 값\n",
    "        * 가중치 2개와 편향 1개"
   ]
  },
  {
   "cell_type": "markdown",
   "id": "2b277240",
   "metadata": {},
   "source": [
    "![option](6_18.jpg)"
   ]
  },
  {
   "cell_type": "markdown",
   "id": "a16e801a",
   "metadata": {},
   "source": [
    "![option](6_19.jpg)"
   ]
  },
  {
   "cell_type": "markdown",
   "id": "ad8cbd65",
   "metadata": {},
   "source": [
    "### 2. 손실 값 그래프와 결과 예측"
   ]
  },
  {
   "cell_type": "markdown",
   "id": "f1ae0a1e",
   "metadata": {},
   "source": [
    "![option](6_20.jpg)"
   ]
  },
  {
   "cell_type": "markdown",
   "id": "e8b8884b",
   "metadata": {},
   "source": [
    "![option](6_21.jpg)"
   ]
  },
  {
   "cell_type": "markdown",
   "id": "b59be6de",
   "metadata": {},
   "source": [
    "![option](6_22.jpg)"
   ]
  },
  {
   "cell_type": "markdown",
   "id": "231b4a42",
   "metadata": {},
   "source": [
    "### 3. XOR 문제"
   ]
  },
  {
   "cell_type": "markdown",
   "id": "977f87a5",
   "metadata": {},
   "source": [
    "* 하나의 퍼셉트론으로는 XOR 게이트 불가능\n",
    "    - 첫 AI 겨울의 계기"
   ]
  },
  {
   "cell_type": "markdown",
   "id": "cb3c430c",
   "metadata": {},
   "source": [
    "![option](6_23.jpg)"
   ]
  },
  {
   "cell_type": "markdown",
   "id": "20c89590",
   "metadata": {},
   "source": [
    "### 3-1. XOR 문제 해결"
   ]
  },
  {
   "cell_type": "markdown",
   "id": "0d7286b4",
   "metadata": {},
   "source": [
    "* 뉴런 3개의 2층으로 가능\n",
    "    - 모델이 구해야 할 총 매개변수(가중치와 편향)\n",
    "        * 3 * 2 + 3 * 1 = 9개"
   ]
  },
  {
   "attachments": {},
   "cell_type": "markdown",
   "id": "c51cda1e",
   "metadata": {},
   "source": [
    "![option](6_24.jpg)"
   ]
  },
  {
   "cell_type": "markdown",
   "id": "e63ed223",
   "metadata": {},
   "source": [
    "### 4. Sequential 모델"
   ]
  },
  {
   "cell_type": "markdown",
   "id": "8412f6ea",
   "metadata": {},
   "source": [
    "* Dense 층\n",
    "    - 가장 기본적인 층\n",
    "    - 인자 units, activation\n",
    "        * 뉴런 수와 활성화 함수\n",
    "    - 인자 input_shape\n",
    "        * 첫 번째 층에서만 정의\n",
    "        * 입력의 차원을 명시\n",
    "            - (2, )\n",
    "            - 2개의 입력을 받는 1차원"
   ]
  }
 ],
 "metadata": {
  "kernelspec": {
   "display_name": "Python 3",
   "language": "python",
   "name": "python3"
  },
  "language_info": {
   "codemirror_mode": {
    "name": "ipython",
    "version": 3
   },
   "file_extension": ".py",
   "mimetype": "text/x-python",
   "name": "python",
   "nbconvert_exporter": "python",
   "pygments_lexer": "ipython3",
   "version": "3.8.8"
  }
 },
 "nbformat": 4,
 "nbformat_minor": 5
}

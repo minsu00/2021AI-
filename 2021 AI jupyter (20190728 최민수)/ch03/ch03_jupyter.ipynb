{
 "cells": [
  {
   "cell_type": "markdown",
   "id": "5fd91f8d",
   "metadata": {},
   "source": [
    "# Ch03"
   ]
  },
  {
   "cell_type": "markdown",
   "id": "dee8c7ea",
   "metadata": {},
   "source": [
    "## Section 01 | 회귀와 분류"
   ]
  },
  {
   "cell_type": "markdown",
   "id": "d5e4f345",
   "metadata": {},
   "source": [
    "### 1. 회귀(regresson)와 분류(classification)"
   ]
  },
  {
   "cell_type": "markdown",
   "id": "a392628b",
   "metadata": {},
   "source": [
    "* 회귀 모델\n",
    "    - 연속적인 값을 예측\n",
    "        * 캘리포니아 주택 가격?\n",
    "        * 사용자가 이 광고를 클릭할 확률?<br><br>\n",
    "* 분류 모델\n",
    "    - 불연속적인 값을 예측\n",
    "        * 주어진 이메일 메세지가 스팸인가요, 아닌가요?\n",
    "        * 이 이미지가 강아지, 고양이 또는 햄스터 이미진가요?"
   ]
  },
  {
   "cell_type": "markdown",
   "id": "e669f7f0",
   "metadata": {},
   "source": [
    "![option](3_1.jpg)"
   ]
  },
  {
   "cell_type": "markdown",
   "id": "8fc4b265",
   "metadata": {},
   "source": [
    "## Section 02 | 판다스 개요"
   ]
  },
  {
   "cell_type": "markdown",
   "id": "8c1d5720",
   "metadata": {},
   "source": [
    "### 1. 판다스"
   ]
  },
  {
   "cell_type": "markdown",
   "id": "e4bffa2e",
   "metadata": {},
   "source": [
    "* 개요\n",
    "    - 표 형식의 데이터나 다양한 형태의 테이블을 처리하기 위한 라이브러리\n",
    "        * 2010년부터, 약  800여 명의 기여자가 활동<br><br>\n",
    "    - 주 자료 구조\n",
    "        * 시리즈와 데이터프레임<br><br>\n",
    "        ![option](3_2.jpg)"
   ]
  },
  {
   "cell_type": "markdown",
   "id": "f3af84da",
   "metadata": {},
   "source": [
    "### 2. DataFrame 개요와 이해"
   ]
  },
  {
   "cell_type": "markdown",
   "id": "a84ff440",
   "metadata": {},
   "source": [
    "* pd.DataFrame\n",
    "    - R의 dataframe 데이터 타입을 참고하여 만든 것이 바로 pandas DataFrame\n",
    "    - 테이블 형태의 자료\n",
    "        * 행과 열을 인덱스와 칼럼으로 구분"
   ]
  },
  {
   "cell_type": "markdown",
   "id": "ccecdd13",
   "metadata": {},
   "source": [
    "* 여러 시리즈의 모임<br>\n",
    "![option](3_4.jpg)"
   ]
  },
  {
   "cell_type": "markdown",
   "id": "cef698d1",
   "metadata": {},
   "source": [
    "* 인덱스와 칼럼<br><br>\n",
    "![option](3_5.jpg)"
   ]
  },
  {
   "cell_type": "markdown",
   "id": "61fa07f4",
   "metadata": {},
   "source": [
    "### 3. 선형 회귀 문제"
   ]
  },
  {
   "cell_type": "markdown",
   "id": "d976fe9f",
   "metadata": {},
   "source": [
    "* 일차 함수관계 식 찾기\n",
    "    - 선형회귀\n",
    "    ![option](3_6.jpg)"
   ]
  },
  {
   "cell_type": "markdown",
   "id": "cd4b1180",
   "metadata": {},
   "source": [
    "* 일차 함수 식 찾기\n",
    "    - 그래프 그리기\n",
    "    ![option](3_7.jpg)"
   ]
  },
  {
   "cell_type": "markdown",
   "id": "d9f6213e",
   "metadata": {},
   "source": [
    "## Section 03 | 분류 구현 붗꽃 iris 예측 KNN / SVM"
   ]
  },
  {
   "cell_type": "markdown",
   "id": "5d24c950",
   "metadata": {},
   "source": [
    "### 1. 붗꽃 분류 개요"
   ]
  },
  {
   "cell_type": "markdown",
   "id": "05942d37",
   "metadata": {},
   "source": [
    "* 붗꽃의 품종 판별\n",
    "    - 분류(classification)\n",
    "        * of classes = 3\n",
    "            - Setosa, versicolor, virginia"
   ]
  },
  {
   "cell_type": "markdown",
   "id": "7b64f30d",
   "metadata": {},
   "source": [
    "### 2. 레이블과 특징 수"
   ]
  },
  {
   "cell_type": "markdown",
   "id": "874a76dc",
   "metadata": {},
   "source": [
    "* 꽃잎과 꽃받침의 너비와 길이\n",
    "    - 4<br><br>\n",
    "* 레이블\n",
    "    - 3개의 붗꽃 중 하나\n",
    "        ![option](3_8.jpg)"
   ]
  },
  {
   "cell_type": "markdown",
   "id": "9c1eca71",
   "metadata": {},
   "source": [
    "### 3. 붗꽃 분류 문제\n",
    "![option](3_9.jpg)"
   ]
  },
  {
   "cell_type": "markdown",
   "id": "19576f32",
   "metadata": {},
   "source": [
    "### 4. KNN 알고리즘"
   ]
  },
  {
   "cell_type": "markdown",
   "id": "8ee773bb",
   "metadata": {},
   "source": [
    "* K 최근접 이웃(KNN) 알고리즘\n",
    "    - 근접 이웃 알고리즘(K - Nearest Neighbors)\n",
    "        * 정답이 있는 지도 학습에 활용, 가장 간단한 알고리즘\n",
    "        * 회귀와 분류에 모두 사용\n",
    "    - 새로운 입력 자료에 대해 주위에 가장 많은  유형으로 분류<br><br>\n",
    "* 알고리즘 이해\n",
    "    - 기존 훈련 데이터에서 클래스 A에 속하는 것은  붉은 별표, 클래스 B는 녹색 삼각형\n",
    "    - 만일 중앙 부근에 위치한 새호운 데이터 ?는 별표와 삼각형 중 무엇으로 분류해야 할까?\n",
    "    ![option](3_10.jpg)"
   ]
  },
  {
   "cell_type": "markdown",
   "id": "92f5df31",
   "metadata": {},
   "source": [
    "### 5. IRIS 구현"
   ]
  },
  {
   "cell_type": "markdown",
   "id": "0abaa7b0",
   "metadata": {},
   "source": [
    "* EDA : 탐색적 데이터 분석\n",
    "    - 자기주도학습\n",
    "    - 존 튜키라는 미국의 저명한 통계학자가 창안한 자료 분석 방법론\n",
    "        * 주어진 자료만 가지고도 충분한 정보를 찾을 수 있도록 여러가지 탐색적 자료 분석 방법을 개발\n",
    "        * 박스플롯 다양한 시각화 도구로 자료에 대한 추붕한 이해르 한 후에 모형 적합 등의 좀 더 정교한 모형을 개발"
   ]
  },
  {
   "cell_type": "markdown",
   "id": "afbb146b",
   "metadata": {},
   "source": [
    "### 6. Sea born KDE(Kernel Density Estimator)"
   ]
  },
  {
   "cell_type": "markdown",
   "id": "c87a71dc",
   "metadata": {},
   "source": [
    "* 시각화도구\n",
    "    - Seaborn\n",
    "    - 커널 밀도 측정(KDE) 플롯\n",
    "        * 데이터의 플롯를 서로 비교해 확인"
   ]
  },
  {
   "cell_type": "markdown",
   "id": "9edc8f01",
   "metadata": {},
   "source": [
    "![option](3_11.jpg)"
   ]
  },
  {
   "cell_type": "markdown",
   "id": "0320b9cf",
   "metadata": {},
   "source": [
    "### 7. Knn 구현"
   ]
  },
  {
   "cell_type": "markdown",
   "id": "0bd99d11",
   "metadata": {},
   "source": [
    "![option](3_12.jpg)"
   ]
  },
  {
   "cell_type": "markdown",
   "id": "a2e16aa2",
   "metadata": {},
   "source": [
    "### 8. KNN을 사용한 붗꽃 분류 전 소스"
   ]
  },
  {
   "cell_type": "markdown",
   "id": "d38556be",
   "metadata": {},
   "source": [
    "![option](3_13.jpg)"
   ]
  },
  {
   "cell_type": "markdown",
   "id": "482d5c69",
   "metadata": {},
   "source": [
    "### 9. SVM"
   ]
  },
  {
   "cell_type": "markdown",
   "id": "bd7dac4f",
   "metadata": {},
   "source": [
    "* SVM : SupportVector Machine\n",
    "    - 두 분류 사이의 거리인 마진(margin)을 최대화하는 분류 기준 경계인 결정 경계를 찾는 모델\n",
    "        * 이진 분류에 주로 사용\n",
    "        * 딥러닝과 함께 인식률이 매우 좋아 최근까지도 가장 많이 사용되는 알고리즘\n",
    "        ![option](3_14.jpg)\n",
    "       "
   ]
  },
  {
   "cell_type": "markdown",
   "id": "700e7224",
   "metadata": {},
   "source": [
    "### 10. SVM 알고리즘 이해"
   ]
  },
  {
   "cell_type": "markdown",
   "id": "392369af",
   "metadata": {},
   "source": [
    "* 직관적 이해\n",
    "    - 직선 B1은 점선 B2보다 마진이 큰 결정 경계가 되어 녹색 네모와 빈 원을 구분\n",
    "    - 분류되지 않은 새로운 점이 나타나면\n",
    "        * 경계의 어느 쪽에 혹하는지 확인해서 분류 과제를 수행"
   ]
  },
  {
   "cell_type": "markdown",
   "id": "cf899ede",
   "metadata": {},
   "source": [
    "### 11. SVM을 이용한 붓꽃 분류 전 소스"
   ]
  },
  {
   "cell_type": "markdown",
   "id": "22d9c537",
   "metadata": {},
   "source": [
    "![option](3_15.jpg)"
   ]
  }
 ],
 "metadata": {
  "kernelspec": {
   "display_name": "Python 3",
   "language": "python",
   "name": "python3"
  },
  "language_info": {
   "codemirror_mode": {
    "name": "ipython",
    "version": 3
   },
   "file_extension": ".py",
   "mimetype": "text/x-python",
   "name": "python",
   "nbconvert_exporter": "python",
   "pygments_lexer": "ipython3",
   "version": "3.8.8"
  }
 },
 "nbformat": 4,
 "nbformat_minor": 5
}
